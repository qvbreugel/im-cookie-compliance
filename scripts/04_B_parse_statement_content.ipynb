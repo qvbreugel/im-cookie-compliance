{
 "cells": [
  {
   "cell_type": "markdown",
   "id": "026e4545-9baf-454f-bafc-0c775a9fbe5d",
   "metadata": {},
   "source": [
    "# 04. Criterion B: Cookie statement contains sufficient information\n",
    "This script parses the content of the Cookie statement URL using the BeautifulSoup library and checks whether it contains information about cookies, purpose and data using the NLP tool SpaCy. "
   ]
  },
  {
   "cell_type": "code",
   "execution_count": null,
   "id": "13761c0b-d8ab-4703-ba1e-64bed7c0d5f3",
   "metadata": {},
   "outputs": [],
   "source": [
    "import requests\n",
    "import json\n",
    "import sqlite3\n",
    "from bs4 import BeautifulSoup\n",
    "import spacy"
   ]
  },
  {
   "cell_type": "code",
   "execution_count": null,
   "id": "8a031f99-be69-48d0-80a6-8e57024d95c4",
   "metadata": {},
   "outputs": [],
   "source": [
    "# Load spaCy language models\n",
    "nlp_en = spacy.load(\"en_core_web_sm\")\n",
    "nlp_nl = spacy.load(\"nl_core_news_sm\")\n",
    "nlp_de = spacy.load(\"de_core_news_sm\")"
   ]
  },
  {
   "cell_type": "code",
   "execution_count": null,
   "id": "69172ee1-3a34-444d-b03a-7f8cf2f42863",
   "metadata": {},
   "outputs": [],
   "source": [
    "# Function that fetches the keywords from data and returns them as usable arrays\n",
    "def get_keywords(path):\n",
    "    # Read the JSON file\n",
    "    with open(path, 'r') as file:\n",
    "        data = json.load(file)\n",
    "\n",
    "    # Extract arrays for \"cookie\" and \"privacy\"\n",
    "    cookie_keywords = data.get(\"cookie\", [])\n",
    "    purpose_keywords = data.get(\"purpose\", [])\n",
    "    data_keywords = data.get(\"data\", [])\n",
    "    \n",
    "    return cookie_keywords, purpose_keywords, data_keywords"
   ]
  },
  {
   "cell_type": "code",
   "execution_count": null,
   "id": "2100a0e7-b198-4198-9175-37c0cda984f1",
   "metadata": {},
   "outputs": [],
   "source": [
    "# Function that fetches and returns the text of a webpage\n",
    "def fetch_page(url):\n",
    "    try:\n",
    "        response = requests.get(url)\n",
    "        response.raise_for_status()\n",
    "        \n",
    "        # Check if the response is an HTML page\n",
    "        if \"text/html\" in response.headers.get(\"Content-Type\", \"\"):\n",
    "            return response.text\n",
    "        else:\n",
    "            print(f\"{url} is not an HTML page.\")\n",
    "            return None\n",
    "    except requests.RequestException as e:\n",
    "        print(f\"Error fetching {url}: {e}\")\n",
    "        return None"
   ]
  },
  {
   "cell_type": "code",
   "execution_count": null,
   "id": "1b4fea13-4515-418c-b140-af934b7e7d18",
   "metadata": {},
   "outputs": [],
   "source": [
    "def contains_cookie_information(html_content):\n",
    "    soup = BeautifulSoup(html_content, \"html.parser\")\n",
    "    text_content = soup.get_text(separator=\" \").strip()\n",
    "    \n",
    "    # Process the text with spaCy\n",
    "    doc_en = nlp_en(text_content.lower())\n",
    "    doc_nl = nlp_nl(text_content.lower())\n",
    "    doc_de = nlp_de(text_content.lower())\n",
    "    \n",
    "    # Initialize flags\n",
    "    cookie_info = False\n",
    "    purpose_info = False\n",
    "    data_info = False\n",
    "\n",
    "    cookie_keywords, purpose_keywords, data_keywords = get_keywords(\"data/keywords_cookies.json\")\n",
    "    \n",
    "    # Function to check keywords in sentences\n",
    "    def check_keywords(doc, keywords):\n",
    "        return any(keyword in sent.text for sent in doc.sents for keyword in keywords)\n",
    "    \n",
    "    # Check for each language's keywords\n",
    "    if (check_keywords(doc_en, cookie_keywords[\"en\"]) or check_keywords(doc_nl, cookie_keywords[\"nl\"]) or check_keywords(doc_de, cookie_keywords[\"de\"])):\n",
    "        cookie_info = True\n",
    "    if (check_keywords(doc_en, purpose_keywords[\"en\"]) or check_keywords(doc_nl, purpose_keywords[\"nl\"]) or check_keywords(doc_de, purpose_keywords[\"de\"])):\n",
    "        purpose_info = True\n",
    "    if (check_keywords(doc_en, data_keywords[\"en\"]) or check_keywords(doc_nl, data_keywords[\"nl\"]) or check_keywords(doc_de, data_keywords[\"de\"])):\n",
    "        data_info = True\n",
    "    \n",
    "    return cookie_info and purpose_info and data_info"
   ]
  },
  {
   "cell_type": "code",
   "execution_count": null,
   "id": "791be3ff-41fb-4e74-b2b9-0cf5574decd7",
   "metadata": {},
   "outputs": [],
   "source": [
    "# Connect to the database\n",
    "conn = sqlite3.connect(\"data/websites.db\")\n",
    "cursor = conn.cursor()"
   ]
  },
  {
   "cell_type": "code",
   "execution_count": null,
   "id": "6c5fb9d7-5c39-48ee-9f0a-78d0f2eab186",
   "metadata": {},
   "outputs": [],
   "source": [
    "# Fetch and print all cookie statement URLs from the table and save to an array\n",
    "cookie_statement_urls = []\n",
    "\n",
    "cursor.execute(\"SELECT cookie_statement_url FROM website_data\")\n",
    "rows = cursor.fetchall()\n",
    "\n",
    "for row in rows:\n",
    "    cookie_statement_urls.append(row[0])"
   ]
  },
  {
   "cell_type": "code",
   "execution_count": null,
   "id": "eeecb0ed-dc05-42f1-8ae0-7a937f8f091b",
   "metadata": {},
   "outputs": [],
   "source": [
    "# Loop through all URLs and save the cookie or privacy statement URL to the database\n",
    "for cookie_statement_url in cookie_statement_urls:\n",
    "    html_content = fetch_page(cookie_statement_url)\n",
    "    \n",
    "    # Only parse the content if html_content is returned\n",
    "    if html_content:\n",
    "        has_contains_cookie_information = contains_cookie_information(html_content)\n",
    "    else:\n",
    "        has_contains_cookie_information = False\n",
    "\n",
    "    # Save to database\n",
    "    cursor.execute(\"\"\"\n",
    "    UPDATE website_data\n",
    "    SET cookie_statement_information = ?\n",
    "    WHERE cookie_statement_url = ?\n",
    "    \"\"\", (has_contains_cookie_information, cookie_statement_url))\n",
    "    conn.commit()"
   ]
  }
 ],
 "metadata": {
  "kernelspec": {
   "display_name": "Python 3 (ipykernel)",
   "language": "python",
   "name": "python3"
  },
  "language_info": {
   "codemirror_mode": {
    "name": "ipython",
    "version": 3
   },
   "file_extension": ".py",
   "mimetype": "text/x-python",
   "name": "python",
   "nbconvert_exporter": "python",
   "pygments_lexer": "ipython3",
   "version": "3.8.19"
  }
 },
 "nbformat": 4,
 "nbformat_minor": 5
}
