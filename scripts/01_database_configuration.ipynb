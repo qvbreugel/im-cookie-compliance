{
 "cells": [
  {
   "cell_type": "markdown",
   "metadata": {},
   "source": [
    "# 01. Database configuraton\n",
    "This script creates an SQLite database with the required columns for storage of the results."
   ]
  },
  {
   "cell_type": "code",
   "execution_count": null,
   "metadata": {},
   "outputs": [],
   "source": [
    "import sqlite3"
   ]
  },
  {
   "cell_type": "code",
   "execution_count": null,
   "metadata": {},
   "outputs": [],
   "source": [
    "# SQLite setup\n",
    "conn = sqlite3.connect(\"data/websites.db\")\n",
    "cursor = conn.cursor()"
   ]
  },
  {
   "cell_type": "code",
   "execution_count": null,
   "metadata": {},
   "outputs": [],
   "source": [
    "# Create a table\n",
    "cursor.execute('''\n",
    "    CREATE TABLE IF NOT EXISTS website_data (\n",
    "        id INTEGER PRIMARY KEY AUTOINCREMENT,\n",
    "        url TEXT NOT NULL,\n",
    "        cookie_statement_url TEXT,\n",
    "        cookie_statement_information INTEGER,\n",
    "        necessary_cookies_only INTEGER,\n",
    "        all_cookies_mentioned INTEGER\n",
    "        is_compliant INTEGER\n",
    "    )\n",
    "''')"
   ]
  }
 ],
 "metadata": {
  "kernelspec": {
   "display_name": "Python 3 (ipykernel)",
   "language": "python",
   "name": "python3"
  },
  "language_info": {
   "codemirror_mode": {
    "name": "ipython",
    "version": 3
   },
   "file_extension": ".py",
   "mimetype": "text/x-python",
   "name": "python",
   "nbconvert_exporter": "python",
   "pygments_lexer": "ipython3",
   "version": "3.8.19"
  }
 },
 "nbformat": 4,
 "nbformat_minor": 4
}
