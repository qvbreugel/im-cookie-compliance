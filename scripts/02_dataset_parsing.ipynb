{
 "cells": [
  {
   "cell_type": "markdown",
   "id": "555f5366-a10c-48d1-a7d6-45ffd638d5fd",
   "metadata": {},
   "source": [
    "# 02. Dataset parsing\n",
    "The **Tranco** dataset consists of a CSV file of domains. In order to parse the HTML content and execute interactions with Selenium, a URL is required. This file is responsible for parsing the list of domains, converting them to urls and saving it to the database."
   ]
  },
  {
   "cell_type": "code",
   "execution_count": null,
   "id": "b3eecdf4-5e48-4950-9b53-16488d3141c0",
   "metadata": {},
   "outputs": [],
   "source": [
    "import csv\n",
    "import sqlite3"
   ]
  },
  {
   "cell_type": "code",
   "execution_count": null,
   "id": "c058e2ea-7184-43b7-9cf1-7c4e922e7a52",
   "metadata": {},
   "outputs": [],
   "source": [
    "# Connect to the database\n",
    "conn = sqlite3.connect(\"data/websites.db\")\n",
    "cursor = conn.cursor()"
   ]
  },
  {
   "cell_type": "code",
   "execution_count": null,
   "id": "5dfd5df4-95f3-4f9b-be8d-faba90bff756",
   "metadata": {},
   "outputs": [],
   "source": [
    "# Path to CSV file of domains\n",
    "input_file_path = \"data/domains.csv\""
   ]
  },
  {
   "cell_type": "code",
   "execution_count": null,
   "id": "0acdf41c-af7d-4b09-9096-4a63476cb61a",
   "metadata": {},
   "outputs": [],
   "source": [
    "# Read domains from the CSV file and convert to URLs\n",
    "with open(input_file_path, \"r\") as infile:\n",
    "    reader = csv.reader(infile)\n",
    "    for domain in reader:\n",
    "        # Convert domain to URL\n",
    "        url = \"https://\" + domain[1]\n",
    "        # Insert URL into the database\n",
    "        cursor.execute('INSERT INTO website_data (url) VALUES (?)', (url,))\n",
    "        conn.commit()"
   ]
  }
 ],
 "metadata": {
  "kernelspec": {
   "display_name": "Python 3 (ipykernel)",
   "language": "python",
   "name": "python3"
  },
  "language_info": {
   "codemirror_mode": {
    "name": "ipython",
    "version": 3
   },
   "file_extension": ".py",
   "mimetype": "text/x-python",
   "name": "python",
   "nbconvert_exporter": "python",
   "pygments_lexer": "ipython3",
   "version": "3.8.19"
  }
 },
 "nbformat": 4,
 "nbformat_minor": 5
}
