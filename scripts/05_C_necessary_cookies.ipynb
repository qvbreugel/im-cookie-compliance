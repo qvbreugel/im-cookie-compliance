{
 "cells": [
  {
   "cell_type": "markdown",
   "id": "565d5be0-093f-4d23-b2f8-3c46ae23578a",
   "metadata": {},
   "source": [
    "# 05. Criterion C: Only 'necessary' cookies are set before consent\n",
    "Using Selenium, the cookies that are being set before any interaction with the web page are retrieved. Using a reference list of cookie names and their purpose, it is checked whether these cookies are 'necessary' or not."
   ]
  },
  {
   "cell_type": "code",
   "execution_count": null,
   "id": "40678a85-c259-4bdc-8f09-b8eb6bb60ac3",
   "metadata": {},
   "outputs": [],
   "source": [
    "import time\n",
    "import csv\n",
    "import sqlite3\n",
    "from selenium import webdriver\n",
    "from selenium.common.exceptions import WebDriverException\n",
    "from selenium.webdriver.chrome.service import Service as ChromeService\n",
    "from selenium.webdriver.chrome.options import Options\n",
    "from selenium.webdriver.common.by import By"
   ]
  },
  {
   "cell_type": "code",
   "execution_count": null,
   "id": "16c2c11c-15b0-4116-9652-5fb2551dea01",
   "metadata": {},
   "outputs": [],
   "source": [
    "# Use a CSV file to get an array of necessary cookies\n",
    "def get_necessary_cookies(path):\n",
    "    necessary_cookies = []\n",
    "    \n",
    "    with open(path, mode='r', newline='', encoding='utf-8') as file:\n",
    "        reader = csv.DictReader(file)\n",
    "        for row in reader:\n",
    "            if row['Purpose'].strip().lower() == 'necessary':\n",
    "                necessary_cookies.append(row['Cookie'])\n",
    "    \n",
    "    return necessary_cookies"
   ]
  },
  {
   "cell_type": "code",
   "execution_count": null,
   "id": "586d4827-28a6-4ee0-afdf-d0ad17e55955",
   "metadata": {},
   "outputs": [],
   "source": [
    "def get_initial_cookies(driver, url):\n",
    "    try:\n",
    "        driver.get(url)\n",
    "        time.sleep(5)  # Wait for cookies to be set\n",
    "        cookies = driver.get_cookies()\n",
    "        return cookies\n",
    "    except WebDriverException as e:\n",
    "        print(f\"An error occurred while fetching the page: {e}\")\n",
    "        return None"
   ]
  },
  {
   "cell_type": "code",
   "execution_count": null,
   "id": "b49f151a-d18e-4f4d-90c3-6bfee0f931bc",
   "metadata": {},
   "outputs": [],
   "source": [
    "def is_necessary_cookie(cookie_name):\n",
    "    for necessary_cookie in get_necessary_cookies(\"data/known_cookies.csv\"):\n",
    "        if necessary_cookie.lower() in cookie_name.lower():\n",
    "            return True\n",
    "    return False"
   ]
  },
  {
   "cell_type": "code",
   "execution_count": null,
   "id": "1f9538e7-0719-4d0c-bb93-400eacf9eb75",
   "metadata": {},
   "outputs": [],
   "source": [
    "def identify_non_necessary_cookies(cookies):\n",
    "    non_necessary_cookies = []\n",
    "    for cookie in cookies:\n",
    "        if not is_necessary_cookie(cookie['name']):\n",
    "            non_necessary_cookies.append(cookie['name'])\n",
    "    return non_necessary_cookies"
   ]
  },
  {
   "cell_type": "code",
   "execution_count": null,
   "id": "23c96c65-1eb5-45b2-b632-e3929c58a0e8",
   "metadata": {},
   "outputs": [],
   "source": [
    "# Set up Chrome options\n",
    "options = Options()\n",
    "options.add_argument(\"--headless\")  # Run in headless mode\n",
    "options.add_argument(\"--disable-gpu\")\n",
    "options.add_argument(\"--no-sandbox\")\n",
    "options.add_argument(\"--disable-dev-shm-usage\")\n",
    "\n",
    "# Set up the Chrome driver\n",
    "service = ChromeService(executable_path='/usr/bin/chromedriver')\n",
    "driver = webdriver.Chrome(service=service, options=options)"
   ]
  },
  {
   "cell_type": "code",
   "execution_count": null,
   "id": "7b89803c-36f9-4edc-aa52-7ad785bdaefe",
   "metadata": {},
   "outputs": [],
   "source": [
    "# Connect to the database\n",
    "conn = sqlite3.connect(\"data/websites.db\")\n",
    "cursor = conn.cursor()"
   ]
  },
  {
   "cell_type": "code",
   "execution_count": null,
   "id": "3dec6de1-779a-480c-bf21-fc484737383f",
   "metadata": {},
   "outputs": [],
   "source": [
    "# Fetch and print all cookie statement URLs from the table and save to an array\n",
    "urls = []\n",
    "\n",
    "cursor.execute(\"SELECT url FROM website_data\")\n",
    "rows = cursor.fetchall()\n",
    "\n",
    "for row in rows:\n",
    "    urls.append(row[0])"
   ]
  },
  {
   "cell_type": "code",
   "execution_count": null,
   "id": "35324a39-526c-40d4-853b-c02a969c1843",
   "metadata": {},
   "outputs": [],
   "source": [
    "# Loop through all URLs and save the cookie or privacy statement URL to the database\n",
    "for url in urls:\n",
    "    # Step 1: Get initial cookies\n",
    "    initial_cookies = get_initial_cookies(driver, url)\n",
    "    print(initial_cookies)\n",
    "\n",
    "    if(initial_cookies == None):\n",
    "        # Step 2: Identify non-necessary cookies\n",
    "        necessary_cookies_only = False\n",
    "    else:\n",
    "        non_necessary_cookies = identify_non_necessary_cookies(initial_cookies)\n",
    "        print(non_necessary_cookies)\n",
    "        necessary_cookies_only = len(non_necessary_cookies) == 0\n",
    "\n",
    "    # Save to database\n",
    "    cursor.execute(\"\"\"\n",
    "    UPDATE website_data\n",
    "    SET necessary_cookies_only = ?\n",
    "    WHERE url = ?\n",
    "    \"\"\", (necessary_cookies_only, url))\n",
    "    conn.commit()"
   ]
  }
 ],
 "metadata": {
  "kernelspec": {
   "display_name": "Python 3 (ipykernel)",
   "language": "python",
   "name": "python3"
  },
  "language_info": {
   "codemirror_mode": {
    "name": "ipython",
    "version": 3
   },
   "file_extension": ".py",
   "mimetype": "text/x-python",
   "name": "python",
   "nbconvert_exporter": "python",
   "pygments_lexer": "ipython3",
   "version": "3.8.19"
  }
 },
 "nbformat": 4,
 "nbformat_minor": 5
}
