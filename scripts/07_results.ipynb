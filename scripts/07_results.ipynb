{
 "cells": [
  {
   "cell_type": "markdown",
   "id": "e4c2b433-63ce-4d5e-8229-2ef6992554bd",
   "metadata": {},
   "source": [
    "# 07. Results"
   ]
  },
  {
   "cell_type": "code",
   "execution_count": null,
   "id": "8aaca446-f4fb-4c12-8d46-a3077a716494",
   "metadata": {},
   "outputs": [],
   "source": [
    "import pandas as pd\n",
    "import sqlite3"
   ]
  },
  {
   "cell_type": "code",
   "execution_count": null,
   "id": "2ce33f31-18b7-443a-b353-e20dc450dbe8",
   "metadata": {},
   "outputs": [],
   "source": [
    "# Connect to the database\n",
    "conn = sqlite3.connect(\"data/websites.db\")"
   ]
  },
  {
   "cell_type": "code",
   "execution_count": null,
   "id": "4f94dc45-d16a-4ae0-b218-16a0a61ca1ca",
   "metadata": {},
   "outputs": [],
   "source": [
    "# Read SQLite query results into a pandas DataFrame\n",
    "df = pd.read_sql_query(\"SELECT * from website_data\", conn)\n",
    "\n",
    "# Show the results\n",
    "print(df)"
   ]
  }
 ],
 "metadata": {
  "kernelspec": {
   "display_name": "Python 3 (ipykernel)",
   "language": "python",
   "name": "python3"
  },
  "language_info": {
   "codemirror_mode": {
    "name": "ipython",
    "version": 3
   },
   "file_extension": ".py",
   "mimetype": "text/x-python",
   "name": "python",
   "nbconvert_exporter": "python",
   "pygments_lexer": "ipython3",
   "version": "3.8.19"
  }
 },
 "nbformat": 4,
 "nbformat_minor": 5
}
