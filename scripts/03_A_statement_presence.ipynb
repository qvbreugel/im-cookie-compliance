{
 "cells": [
  {
   "cell_type": "markdown",
   "id": "67e7bdd2-c3c4-43ce-aa92-e05e4431bebc",
   "metadata": {},
   "source": [
    "# 03. Criterion A: Cookie statement presence\n",
    "This script uses the library BeautifulSoup to parse the HTML content of the URL in the database and checks for the presence of an **a** tag that has an href attrubute to a cookie statement or a privacy statement. If a direct link to a cookie statement is not found, the script checks for a privacy statement."
   ]
  },
  {
   "cell_type": "code",
   "execution_count": null,
   "id": "d094f4c8-52a3-4acb-ad01-bd90e4de9959",
   "metadata": {},
   "outputs": [],
   "source": [
    "import requests\n",
    "import sqlite3\n",
    "import json\n",
    "from bs4 import BeautifulSoup\n",
    "from urllib.parse import urljoin"
   ]
  },
  {
   "cell_type": "code",
   "execution_count": null,
   "id": "e5d45f89-e777-4e7c-b0ea-952f2190b611",
   "metadata": {},
   "outputs": [],
   "source": [
    "# Function that fetches the keywords from data and returns them as usable arrays\n",
    "def get_keywords(path):\n",
    "    # Read the JSON file\n",
    "    with open(path, 'r') as file:\n",
    "        data = json.load(file)\n",
    "\n",
    "    # Extract arrays for \"cookie\" and \"privacy\"\n",
    "    cookie_keywords = data.get(\"cookie\", [])\n",
    "    privacy_keywords = data.get(\"privacy\", [])\n",
    "    \n",
    "    return cookie_keywords, privacy_keywords"
   ]
  },
  {
   "cell_type": "code",
   "execution_count": null,
   "id": "20369c58-2abc-4945-9947-8b1ee5a3a772",
   "metadata": {},
   "outputs": [],
   "source": [
    "# Function that fetches and returns the text of a webpage\n",
    "def fetch_page(url):\n",
    "    try:\n",
    "        response = requests.get(url)\n",
    "        response.raise_for_status()\n",
    "        \n",
    "        # Check if the response is an HTML page\n",
    "        if \"text/html\" in response.headers.get(\"Content-Type\", \"\"):\n",
    "            return response.text\n",
    "        else:\n",
    "            print(f\"{url} is not an HTML page.\")\n",
    "            return None\n",
    "    except requests.RequestException as e:\n",
    "        print(f\"Error fetching {url}: {e}\")\n",
    "        return None"
   ]
  },
  {
   "cell_type": "code",
   "execution_count": null,
   "id": "1b379f61-e307-4ca6-aba4-67980fda8d7e",
   "metadata": {},
   "outputs": [],
   "source": [
    "# Function that retrieves the cookie statement for a given URL\n",
    "def get_cookie_statement_url(url):\n",
    "    try:\n",
    "        html_content = fetch_page(url)\n",
    "\n",
    "        if(html_content == None):\n",
    "            return None\n",
    "        \n",
    "        # Parse the HTML content\n",
    "        soup = BeautifulSoup(html_content, \"html.parser\")\n",
    "        \n",
    "        # Define keyword groups for cookie and privacy statements\n",
    "        cookie_keywords, privacy_keywords = get_keywords(\"data/keywords_statements.json\")\n",
    "\n",
    "        # First check if anything with cookie keywords can be found and return the URL\n",
    "        for link in soup.find_all('a', href=True):\n",
    "            href = link.get('href')\n",
    "            if any(keyword in link.text.lower() for keyword in cookie_keywords):\n",
    "                # Return the full URL of the cookie statement\n",
    "                full_url = urljoin(url, href)\n",
    "                return full_url\n",
    "\n",
    "        # If the previous search didn't return a URL, use the privacy keywords to find the privacy statement\n",
    "        for link in soup.find_all('a', href=True):\n",
    "            href = link.get('href')\n",
    "            if any(keyword in link.text.lower() for keyword in privacy_keywords):\n",
    "                # Return the full URL of the privacy statement\n",
    "                full_url = urljoin(url, href)\n",
    "                return full_url\n",
    "        \n",
    "    except requests.RequestException as e:\n",
    "        print(f\"Error accessing {url}: {e}\")\n",
    "        return None"
   ]
  },
  {
   "cell_type": "code",
   "execution_count": null,
   "id": "5314a599-bae2-4e25-a67d-2773e739811a",
   "metadata": {},
   "outputs": [],
   "source": [
    "# Connect to the database\n",
    "conn = sqlite3.connect(\"data/websites.db\")\n",
    "cursor = conn.cursor()"
   ]
  },
  {
   "cell_type": "code",
   "execution_count": null,
   "id": "24e0a2f6-6811-4d92-a8e3-87c510f98b22",
   "metadata": {},
   "outputs": [],
   "source": [
    "# Fetch and print all URLs from the table and save to an array\n",
    "urls = []\n",
    "\n",
    "cursor.execute('SELECT url FROM website_data')\n",
    "rows = cursor.fetchall()\n",
    "\n",
    "for row in rows:\n",
    "    urls.append(row[0])"
   ]
  },
  {
   "cell_type": "code",
   "execution_count": null,
   "id": "89a38ee7-e7dc-41ca-a236-0721035fc6bf",
   "metadata": {},
   "outputs": [],
   "source": [
    "# Loop through all URLs and save the cookie or privacy statement URL to the database\n",
    "for url in urls:\n",
    "    cookie_statement_url = get_cookie_statement_url(url)\n",
    "    if(cookie_statement_url != None):\n",
    "        cursor.execute('''\n",
    "        UPDATE website_data\n",
    "        SET cookie_statement_url = ?\n",
    "        WHERE url = ?\n",
    "        ''', (cookie_statement_url, url))\n",
    "        conn.commit()"
   ]
  }
 ],
 "metadata": {
  "kernelspec": {
   "display_name": "Python 3 (ipykernel)",
   "language": "python",
   "name": "python3"
  },
  "language_info": {
   "codemirror_mode": {
    "name": "ipython",
    "version": 3
   },
   "file_extension": ".py",
   "mimetype": "text/x-python",
   "name": "python",
   "nbconvert_exporter": "python",
   "pygments_lexer": "ipython3",
   "version": "3.8.19"
  }
 },
 "nbformat": 4,
 "nbformat_minor": 5
}
