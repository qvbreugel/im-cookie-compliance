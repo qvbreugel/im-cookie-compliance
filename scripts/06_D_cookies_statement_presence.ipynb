{
 "cells": [
  {
   "cell_type": "markdown",
   "id": "8a9f0f4a-fc01-4b18-9188-3fda52b5450b",
   "metadata": {},
   "source": [
    "# 06. Criterion D: Check if all cookie vendors are mentioned in cookie statement"
   ]
  },
  {
   "cell_type": "code",
   "execution_count": null,
   "id": "bc8338f8-ea58-438e-8b33-5c7f674d9d11",
   "metadata": {},
   "outputs": [],
   "source": [
    "import time\n",
    "from selenium import webdriver\n",
    "from selenium.webdriver.common.keys import Keys\n",
    "from selenium.webdriver.support.ui import WebDriverWait\n",
    "from selenium.webdriver.support import expected_conditions as EC\n",
    "from selenium import webdriver\n",
    "from selenium.common.exceptions import WebDriverException\n",
    "from selenium.webdriver.chrome.service import Service as ChromeService\n",
    "from selenium.webdriver.chrome.options import Options\n",
    "from selenium.webdriver.common.by import By\n",
    "import sqlite3\n",
    "import csv\n",
    "import spacy\n",
    "import requests\n",
    "from bs4 import BeautifulSoup"
   ]
  },
  {
   "cell_type": "code",
   "execution_count": null,
   "id": "27f3d4d3-8b57-487c-8f1a-b0df844f9499",
   "metadata": {},
   "outputs": [],
   "source": [
    "def read_cookie_vendors_from_csv(path):\n",
    "    cookie_vendors = {}\n",
    "    with open(path, mode='r') as file:\n",
    "        csv_reader = csv.DictReader(file)\n",
    "        for row in csv_reader:\n",
    "            cookie_name = row['Cookie']\n",
    "            cookie_vendors[cookie_name] = row['Vendor']\n",
    "    return cookie_vendors"
   ]
  },
  {
   "cell_type": "code",
   "execution_count": null,
   "id": "8dd1ce01-1bd7-498c-98b7-2dc7765e0f29",
   "metadata": {},
   "outputs": [],
   "source": [
    "# Function that fetches and returns the text of a webpage\n",
    "def fetch_page(url):\n",
    "    try:\n",
    "        response = requests.get(url)\n",
    "        response.raise_for_status()\n",
    "        \n",
    "        # Check if the response is an HTML page\n",
    "        if \"text/html\" in response.headers.get(\"Content-Type\", \"\"):\n",
    "            return response.text\n",
    "        else:\n",
    "            print(f\"{url} is not an HTML page.\")\n",
    "            return None\n",
    "    except requests.RequestException as e:\n",
    "        print(f\"Error fetching {url}: {e}\")\n",
    "        return None"
   ]
  },
  {
   "cell_type": "code",
   "execution_count": null,
   "id": "3254c017-39d3-4d85-a738-d321fbee1f52",
   "metadata": {},
   "outputs": [],
   "source": [
    "def accept_cookies(driver):\n",
    "    try:\n",
    "        # Wait for the cookie pop-up to appear and accept it\n",
    "        wait = WebDriverWait(driver, 10)\n",
    "        accept_button = wait.until(EC.element_to_be_clickable(  (By.XPATH, \"//button[text()='Accept all' or text()='Accepteer cookies']\")))\n",
    "        accept_button.click()\n",
    "    except Exception as e:\n",
    "        return None\n",
    "        print(f\"An error occurred while trying to accept cookies: {e}\")"
   ]
  },
  {
   "cell_type": "code",
   "execution_count": null,
   "id": "577aa110-07f3-4be0-9852-90ecc1f2f80b",
   "metadata": {},
   "outputs": [],
   "source": [
    "def get_cookies(driver):\n",
    "    # Wait some time for cookies to be set\n",
    "    time.sleep(5)\n",
    "    cookies = driver.get_cookies()\n",
    "    return cookies"
   ]
  },
  {
   "cell_type": "code",
   "execution_count": null,
   "id": "5a47873a-2ed4-4107-bed4-3f6c33ea22ba",
   "metadata": {},
   "outputs": [],
   "source": [
    "def match_cookies_with_vendors(cookies, cookie_vendors):\n",
    "    matched_vendors = []\n",
    "    for cookie in cookies:\n",
    "        name = cookie['name']\n",
    "        if name in cookie_vendors:\n",
    "            matched_vendors.append(cookie_vendors[name])\n",
    "    return matched_vendors"
   ]
  },
  {
   "cell_type": "code",
   "execution_count": null,
   "id": "640eea85-113d-4379-a51c-78240903d705",
   "metadata": {},
   "outputs": [],
   "source": [
    "def check_vendor_mentions(cookie_statement, matched_vendors):\n",
    "    nlp = spacy.load('en_core_web_sm')\n",
    "    doc = nlp(cookie_statement)\n",
    "\n",
    "    mentioned_vendors = []\n",
    "    for vendor in matched_vendors:\n",
    "        if vendor.lower() in doc.text.lower():\n",
    "            mentioned_vendors.append(vendor)\n",
    "    return mentioned_vendors"
   ]
  },
  {
   "cell_type": "code",
   "execution_count": null,
   "id": "70a56793-8838-4bb2-826f-6d563b2766ae",
   "metadata": {},
   "outputs": [],
   "source": [
    "# Set up Chrome options\n",
    "options = Options()\n",
    "options.add_argument(\"--headless\")  # Run in headless mode\n",
    "options.add_argument(\"--disable-gpu\")\n",
    "options.add_argument(\"--no-sandbox\")\n",
    "options.add_argument(\"--disable-dev-shm-usage\")\n",
    "\n",
    "# Set up the Chrome driver\n",
    "service = ChromeService(executable_path='/usr/bin/chromedriver')\n",
    "driver = webdriver.Chrome(service=service, options=options)"
   ]
  },
  {
   "cell_type": "code",
   "execution_count": null,
   "id": "da1482f3-34d8-48f8-b1cc-ce7e52344cdc",
   "metadata": {},
   "outputs": [],
   "source": [
    "# Combine all previously defined functions to check if all cookies are mentioned\n",
    "def all_vendors_mentioned(website):\n",
    "    url = website[\"url\"]\n",
    "    cookie_statement_url = website[\"cookie_statement_url\"]\n",
    "\n",
    "    # Visit the website\n",
    "    driver.get(url)\n",
    "\n",
    "    # Accept all cookies\n",
    "    accept_cookies(driver)\n",
    "\n",
    "    if(accept_cookies == None):\n",
    "        return False\n",
    "\n",
    "    # Fetch all cookies\n",
    "    cookies = get_cookies(driver)\n",
    "\n",
    "    # Match the cookies with their vendors\n",
    "    matched_vendors = match_cookies_with_vendors(cookies, cookie_vendors)\n",
    "\n",
    "    # Fetch cookie statement\n",
    "    html_content = fetch_page(cookie_statement_url)\n",
    "\n",
    "    if(html_content == None):\n",
    "        return False\n",
    "    \n",
    "    # Check if vendors are mentioned in the cookie statement\n",
    "    mentioned_vendors = check_vendor_mentions(html_content, matched_vendors)\n",
    "\n",
    "    # If the number of vendors mentioned is the same as the number of vendors matches the website is considered compliant\n",
    "    return len(mentioned_vendors) == len(matched_vendors)"
   ]
  },
  {
   "cell_type": "code",
   "execution_count": null,
   "id": "363d298d-f0da-4626-8c9b-f112c75ed750",
   "metadata": {},
   "outputs": [],
   "source": [
    "# Connect to the database\n",
    "conn = sqlite3.connect(\"data/websites.db\")\n",
    "cursor = conn.cursor()"
   ]
  },
  {
   "cell_type": "code",
   "execution_count": null,
   "id": "c378dbd4-9d3f-4916-b6a3-c36408d3d20c",
   "metadata": {},
   "outputs": [],
   "source": [
    "# Fetch and print all cookie statement URLs from the table and save to an array\n",
    "websites = []\n",
    "\n",
    "cursor.execute(\"SELECT url, cookie_statement_url FROM website_data\")\n",
    "rows = cursor.fetchall()\n",
    "\n",
    "for row in rows:\n",
    "    websites.append({\"url\": row[0], \"cookie_statement_url\": row[1]})"
   ]
  },
  {
   "cell_type": "code",
   "execution_count": null,
   "id": "a9e715b5-052c-4c08-ae8a-194dcbacadd6",
   "metadata": {},
   "outputs": [],
   "source": [
    "# Get all the cookie vendors from the csv file\n",
    "cookie_vendors = read_cookie_vendors_from_csv(\"data/known_cookies.csv\")"
   ]
  },
  {
   "cell_type": "code",
   "execution_count": null,
   "id": "581a0417-9935-4269-804f-5fa307b9a1a5",
   "metadata": {},
   "outputs": [],
   "source": [
    "# Loop through all websites\n",
    "for website in websites:\n",
    "    all_cookies_mentioned = all_vendors_mentioned(website)\n",
    "\n",
    "    # Save to database\n",
    "    cursor.execute(\"\"\"\n",
    "    UPDATE website_data\n",
    "    SET all_cookies_mentioned = ?\n",
    "    WHERE url = ?\n",
    "    \"\"\", (all_cookies_mentioned, website[\"url\"]))\n",
    "    conn.commit()\n",
    "    "
   ]
  }
 ],
 "metadata": {
  "kernelspec": {
   "display_name": "Python 3 (ipykernel)",
   "language": "python",
   "name": "python3"
  },
  "language_info": {
   "codemirror_mode": {
    "name": "ipython",
    "version": 3
   },
   "file_extension": ".py",
   "mimetype": "text/x-python",
   "name": "python",
   "nbconvert_exporter": "python",
   "pygments_lexer": "ipython3",
   "version": "3.8.19"
  }
 },
 "nbformat": 4,
 "nbformat_minor": 5
}
